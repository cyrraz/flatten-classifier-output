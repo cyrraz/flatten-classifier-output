{
 "cells": [
  {
   "cell_type": "code",
   "execution_count": null,
   "metadata": {},
   "outputs": [],
   "source": [
    "import matplotlib.pyplot as plt\n",
    "import numpy as np\n",
    "from scipy.interpolate import interp1d\n",
    "import pickle\n",
    "from plothist import make_hist, plot_hist"
   ]
  },
  {
   "cell_type": "code",
   "execution_count": null,
   "metadata": {},
   "outputs": [],
   "source": [
    "# Define dummy classifier ouptut\n",
    "\n",
    "N = 10000\n",
    "\n",
    "signal = np.random.normal(1, 0.25, N)\n",
    "signal = signal[(signal>0) & (signal<1)]\n",
    "background = np.random.normal(0, 0.25, N)\n",
    "background = background[(background>0) & (background<1)]\n",
    "\n",
    "y_score = np.concatenate((signal,background))\n",
    "y_true = np.concatenate((np.ones(signal.shape, dtype=bool), np.zeros(background.shape, dtype=bool)))\n",
    "y_weight = np.ones(len(signal)+len(background))"
   ]
  },
  {
   "cell_type": "code",
   "execution_count": null,
   "metadata": {},
   "outputs": [],
   "source": [
    "fig, ax = plt.subplots()\n",
    "h_sig = make_hist(y_score[y_true], bins=20, range=(0, 1), weights=y_weight[y_true])\n",
    "h_bkg = make_hist(y_score[~y_true], bins=20, range=(0, 1), weights=y_weight[~y_true])\n",
    "plot_hist(h_sig, ax=ax, label=\"Signal\", histtype=\"step\", linewidth=1.2)\n",
    "plot_hist(h_bkg, ax=ax, label=\"Background\", histtype=\"step\", linewidth=1.2)\n",
    "ax.set_xlabel('Classifier ouput')\n",
    "ax.set_ylabel(\"Entries\")\n",
    "ax.legend()\n",
    "fig.savefig(\"classifier_output.svg\", bbox_inches=\"tight\")"
   ]
  },
  {
   "cell_type": "code",
   "execution_count": null,
   "metadata": {},
   "outputs": [],
   "source": [
    "# Sort according to score\n",
    "desc_score_indices = np.argsort(y_score, kind=\"stable\")[::-1]\n",
    "y_score = y_score[desc_score_indices]\n",
    "y_true = y_true[desc_score_indices]\n",
    "y_weight = y_weight[desc_score_indices]"
   ]
  },
  {
   "cell_type": "code",
   "execution_count": null,
   "metadata": {},
   "outputs": [],
   "source": [
    "tps = np.cumsum(y_true * y_weight)\n",
    "efficiency = tps/np.sum(y_true * y_weight)\n",
    "\n",
    "# translate classifier selection into a signal efficiency with an interpolation\n",
    "# fit only 1 point out of 10 to save memory\n",
    "# You may want to take more points if the sample is small\n",
    "fit_efficiency = interp1d(y_score[::-1][::10], efficiency[::-1][::10], fill_value=(1.0, 0.0), bounds_error=False)\n",
    "\n",
    "# The fit can be saved for later use\n",
    "# with open(\"efficiency.pickle\"), 'wb') as handle:\n",
    "#   pickle.dump(eff, handle)"
   ]
  },
  {
   "cell_type": "code",
   "execution_count": null,
   "metadata": {},
   "outputs": [],
   "source": [
    "fig, ax = plt.subplots()\n",
    "ax.plot(y_score, efficiency, \".\", label='Expectation')\n",
    "ax.plot(y_score, fit_efficiency(y_score), '--', label='Fit')\n",
    "ax.set_xlabel('Classifier ouput')\n",
    "ax.set_ylabel('Signal efficiency')\n",
    "ax.set_xlim(0,1)\n",
    "ax.set_ylim(0,1)\n",
    "ax.legend()"
   ]
  },
  {
   "cell_type": "code",
   "execution_count": null,
   "metadata": {},
   "outputs": [],
   "source": [
    "fig, ax = plt.subplots()\n",
    "h_sig_fit = make_hist(fit_efficiency(y_score[y_true]), bins=20, range=(0, 1), weights=y_weight[y_true])\n",
    "h_bkg_fit = make_hist(fit_efficiency(y_score[~y_true]), bins=20, range=(0, 1), weights=y_weight[~y_true])\n",
    "plot_hist(h_sig_fit, ax=ax, label=\"Signal\", histtype=\"step\", density=True, linewidth=1.2)\n",
    "plot_hist(h_bkg_fit, ax=ax, label=\"Background\", histtype=\"step\", density=True, linewidth=1.2)\n",
    "ax.set_xlabel('Signal efficiency')\n",
    "ax.legend()"
   ]
  },
  {
   "cell_type": "code",
   "execution_count": null,
   "metadata": {},
   "outputs": [],
   "source": [
    "fig, ax = plt.subplots()\n",
    "h_sig_fit_rej = make_hist(1-fit_efficiency(y_score[y_true]), bins=20, range=(0, 1), weights=y_weight[y_true])\n",
    "h_bkg_fit_rej = make_hist(1-fit_efficiency(y_score[~y_true]), bins=20, range=(0, 1), weights=y_weight[~y_true])\n",
    "plot_hist(h_sig_fit_rej, ax=ax, label=\"Signal\", histtype=\"step\", density=True, linewidth=1.2)\n",
    "plot_hist(h_bkg_fit_rej, ax=ax, label=\"Background\", histtype=\"step\", density=True, linewidth=1.2)\n",
    "ax.set_xlabel('1 $-$ Signal efficiency')\n",
    "ax.set_ylabel(\"Entries\")\n",
    "ax.legend()\n",
    "fig.savefig(\"flatten_distribution.svg\", bbox_inches=\"tight\")"
   ]
  },
  {
   "cell_type": "code",
   "execution_count": null,
   "metadata": {},
   "outputs": [],
   "source": []
  }
 ],
 "metadata": {
  "kernelspec": {
   "display_name": "Python 3 (ipykernel)",
   "language": "python",
   "name": "python3"
  },
  "language_info": {
   "codemirror_mode": {
    "name": "ipython",
    "version": 3
   },
   "file_extension": ".py",
   "mimetype": "text/x-python",
   "name": "python",
   "nbconvert_exporter": "python",
   "pygments_lexer": "ipython3",
   "version": "3.10.12"
  },
  "vscode": {
   "interpreter": {
    "hash": "964cbaddc8d1a76d7d5780e8778b7e173de971b40377bfb42aca1c83b11c3c3f"
   }
  }
 },
 "nbformat": 4,
 "nbformat_minor": 2
}
